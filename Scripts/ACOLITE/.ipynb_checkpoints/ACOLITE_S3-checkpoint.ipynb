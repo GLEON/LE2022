{
 "cells": [
  {
   "cell_type": "code",
   "execution_count": 8,
   "metadata": {},
   "outputs": [
    {
     "data": {
      "text/plain": [
       "'C:\\\\Users\\\\ssharp'"
      ]
     },
     "execution_count": 8,
     "metadata": {},
     "output_type": "execute_result"
    }
   ],
   "source": []
  },
  {
   "cell_type": "code",
   "execution_count": 1,
   "metadata": {},
   "outputs": [],
   "source": [
    "import sys, os\n",
    "user_home = os.path.expanduser(\"~\")\n",
    "sys.path.append(user_home+'/Documents/Git/acolite') # update to where acolite is saved on your harddrive\n",
    "import acolite as ac"
   ]
  },
  {
   "cell_type": "code",
   "execution_count": 2,
   "metadata": {},
   "outputs": [],
   "source": [
    "## set up\n",
    "download_dir = 'c:/Users/ssharp/Documents/git/LE2022/ACOLITE/S3/S3_L1'\n",
    "output_dir = 'c:/Users/ssharp/Box/UCD EDL/GLEON LE2022/ACOLITE/S3/S3_L2'\n",
    "\n",
    "## ROI for extraction and reprojection (S, W, N, E)\n",
    "limit = [42.975101260529925, -89.5221791989459, 43.20072851621282, -89.26008675058664]\n",
    "\n",
    "## date to query\n",
    "# These are the dates for all the DESIS/PRISMA scenes we are using\n",
    "date = '2020-06-02'\n",
    "#date = '2020-12-25'\n",
    "#date = '2021-06-05'\n",
    "#date = '2021-06-11'\n",
    "#date = '2021-06-15'\n",
    "#date = '2021-08-15'\n",
    "#date = '2021-09-05'\n",
    "#date = '2021-11-02'\n",
    "#date = '2021-12-13'\n",
    "#date = '2022-05-13'\n",
    "#date = '2022-06-02'\n",
    "#date = '2022-06-16'\n",
    "#date = '2022-06-23'\n",
    "#date = '2022-07-27'\n",
    "#date = '2022-08-31'\n",
    "#date = '2022-10-10'\n",
    "\n",
    "\n",
    "## example point location\n",
    "# These are the coordinates of the buoy\n",
    "st_lat = 43.0995\n",
    "st_lon = -89.4045\n",
    "# These are the coordinates that Quinten used\n",
    "#st_lat = 43.09062957763672\n",
    "#st_lon = -89.46370697021484"
   ]
  },
  {
   "cell_type": "code",
   "execution_count": 3,
   "metadata": {},
   "outputs": [
    {
     "name": "stdout",
     "output_type": "stream",
     "text": [
      "Using default product OL_1_EFR___ for SENTINEL-3\n",
      "Found 1 total scenes\n"
     ]
    }
   ],
   "source": [
    "## query CDSE database\n",
    "urls, scenes = ac.cdse.query(\n",
    "    roi='POINT ({} {})'.format(st_lon, st_lat),\n",
    "    collection = \"SENTINEL-3\", \n",
    "    start_date = date, end_date = date)\n"
   ]
  },
  {
   "cell_type": "code",
   "execution_count": 4,
   "metadata": {},
   "outputs": [
    {
     "name": "stdout",
     "output_type": "stream",
     "text": [
      "Downloading 1 scenes\n",
      "Downloading S3A_OL_1_EFR____20200602T154602_20200602T154902_20200603T191319_0179_059_054_2160_LN1_O_NT_002.SEN3\n",
      "Writing file to /Box/UCD EDL/GLEON LE2022/ACOLITE/S3/S3_L1/S3A_OL_1_EFR____20200602T154602_20200602T154902_20200603T191319_0179_059_054_2160_LN1_O_NT_002.zip\n",
      "An error occurred trying to download.\n"
     ]
    }
   ],
   "source": [
    "## download scenes to local directory\n",
    "local_scenes = ac.cdse.download(urls, scenes=scenes, output = download_dir)\n",
    "# Make sure you save your login to the acolite config file \n",
    "# this is the website where you make an account:\n",
    "# https://dataspace.copernicus.eu/"
   ]
  },
  {
   "cell_type": "code",
   "execution_count": 5,
   "metadata": {},
   "outputs": [
    {
     "ename": "IndexError",
     "evalue": "list index out of range",
     "output_type": "error",
     "traceback": [
      "\u001b[1;31m---------------------------------------------------------------------------\u001b[0m",
      "\u001b[1;31mIndexError\u001b[0m                                Traceback (most recent call last)",
      "\u001b[1;32m<ipython-input-5-573fb0e9ca0c>\u001b[0m in \u001b[0;36m<module>\u001b[1;34m\u001b[0m\n\u001b[0;32m      2\u001b[0m \u001b[1;31m## parameters that are not set will be set to defaults\u001b[0m\u001b[1;33m\u001b[0m\u001b[1;33m\u001b[0m\u001b[1;33m\u001b[0m\u001b[0m\n\u001b[0;32m      3\u001b[0m \u001b[0msettings\u001b[0m \u001b[1;33m=\u001b[0m \u001b[1;33m{\u001b[0m\u001b[1;33m}\u001b[0m\u001b[1;33m\u001b[0m\u001b[1;33m\u001b[0m\u001b[0m\n\u001b[1;32m----> 4\u001b[1;33m \u001b[0msettings\u001b[0m\u001b[1;33m[\u001b[0m\u001b[1;34m'inputfile'\u001b[0m\u001b[1;33m]\u001b[0m \u001b[1;33m=\u001b[0m \u001b[0mlocal_scenes\u001b[0m\u001b[1;33m[\u001b[0m\u001b[1;36m0\u001b[0m\u001b[1;33m]\u001b[0m\u001b[1;33m\u001b[0m\u001b[1;33m\u001b[0m\u001b[0m\n\u001b[0m\u001b[0;32m      5\u001b[0m \u001b[0msettings\u001b[0m\u001b[1;33m[\u001b[0m\u001b[1;34m'limit'\u001b[0m\u001b[1;33m]\u001b[0m \u001b[1;33m=\u001b[0m \u001b[0mlimit\u001b[0m\u001b[1;33m\u001b[0m\u001b[1;33m\u001b[0m\u001b[0m\n\u001b[0;32m      6\u001b[0m \u001b[0msettings\u001b[0m\u001b[1;33m[\u001b[0m\u001b[1;34m'output'\u001b[0m\u001b[1;33m]\u001b[0m \u001b[1;33m=\u001b[0m \u001b[0moutput_dir\u001b[0m\u001b[1;33m\u001b[0m\u001b[1;33m\u001b[0m\u001b[0m\n",
      "\u001b[1;31mIndexError\u001b[0m: list index out of range"
     ]
    }
   ],
   "source": [
    "## set up run settings\n",
    "## parameters that are not set will be set to defaults\n",
    "settings = {}\n",
    "settings['inputfile'] = local_scenes[0]\n",
    "settings['limit'] = limit\n",
    "settings['output'] = output_dir\n",
    "\n",
    "## since we have a rather small ROI, a single aot estimate is reasonable\n",
    "settings['dsf_aot_estimate'] = 'fixed'\n",
    "settings['dsf_spectrum_option'] = 'darkest'\n",
    "\n",
    "## reprojection of S3 from swath geometry to UTM projection\n",
    "settings['reproject_before_ac'] = True\n",
    "settings['output_projection'] = True\n",
    "settings['limit_buffer'] = 0.1 ## extra buffer around limit\n",
    "\n",
    "## run acolite :-)\n",
    "ac.acolite.acolite_run(settings)"
   ]
  },
  {
   "cell_type": "code",
   "execution_count": null,
   "metadata": {},
   "outputs": [],
   "source": []
  }
 ],
 "metadata": {
  "kernelspec": {
   "display_name": "Python 3",
   "language": "python",
   "name": "python3"
  },
  "language_info": {
   "codemirror_mode": {
    "name": "ipython",
    "version": 3
   },
   "file_extension": ".py",
   "mimetype": "text/x-python",
   "name": "python",
   "nbconvert_exporter": "python",
   "pygments_lexer": "ipython3",
   "version": "3.7.10"
  }
 },
 "nbformat": 4,
 "nbformat_minor": 5
}
